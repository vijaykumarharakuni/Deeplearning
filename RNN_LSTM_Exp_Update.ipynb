{
  "nbformat": 4,
  "nbformat_minor": 0,
  "metadata": {
    "colab": {
      "provenance": [],
      "gpuType": "T4",
      "include_colab_link": true
    },
    "kernelspec": {
      "name": "python3",
      "display_name": "Python 3"
    },
    "language_info": {
      "name": "python"
    },
    "accelerator": "GPU"
  },
  "cells": [
    {
      "cell_type": "markdown",
      "metadata": {
        "id": "view-in-github",
        "colab_type": "text"
      },
      "source": [
        "<a href=\"https://colab.research.google.com/github/vijaykumarharakuni/Deeplearning/blob/main/RNN_LSTM_Exp_Update.ipynb\" target=\"_parent\"><img src=\"https://colab.research.google.com/assets/colab-badge.svg\" alt=\"Open In Colab\"/></a>"
      ]
    },
    {
      "cell_type": "markdown",
      "source": [
        "# Sentiment Classification using RNN & LSTM -Moview Review Classification Project"
      ],
      "metadata": {
        "id": "YMHYM2YkvpNr"
      }
    },
    {
      "cell_type": "code",
      "execution_count": 2,
      "metadata": {
        "id": "qDF_Y6t0vAWA",
        "colab": {
          "base_uri": "https://localhost:8080/"
        },
        "outputId": "d199c7c8-107b-4102-ca66-a0f5fda560d3"
      },
      "outputs": [
        {
          "output_type": "stream",
          "name": "stdout",
          "text": [
            "Mounted at /content/drive\n"
          ]
        }
      ],
      "source": [
        "# Mount the google drive\n",
        "from google.colab import drive\n",
        "drive.mount('/content/drive')"
      ]
    },
    {
      "cell_type": "markdown",
      "source": [
        "# load the dataset"
      ],
      "metadata": {
        "id": "aTYgiJD1wbCp"
      }
    },
    {
      "cell_type": "code",
      "source": [
        "import os\n",
        "import tarfile\n",
        "\n",
        "dataset_path='/content/drive/MyDrive/Data (1)/aclImdb_v1.tar.gz'\n",
        "\n",
        "# extract the dataset\n",
        "with tarfile.open(dataset_path) as f:\n",
        "    f.extractall()\n",
        "\n",
        "print('Data Extracted')"
      ],
      "metadata": {
        "colab": {
          "base_uri": "https://localhost:8080/"
        },
        "id": "6CRGFVEpwcGa",
        "outputId": "873d499a-000d-4d87-afb7-37ab79a16a9c"
      },
      "execution_count": 5,
      "outputs": [
        {
          "output_type": "stream",
          "name": "stdout",
          "text": [
            "Data Extracted\n"
          ]
        }
      ]
    },
    {
      "cell_type": "code",
      "source": [
        "import os\n",
        "import numpy as np\n",
        "from tensorflow.keras.preprocessing.text import Tokenizer\n",
        "from tensorflow.keras.preprocessing.sequence import pad_sequences\n",
        "\n",
        "# Paths to the training data\n",
        "train_dir = 'aclImdb/train'\n",
        "\n",
        "# Load reviews and labels\n",
        "def load_reviews(directory):\n",
        "    reviews = []\n",
        "    labels = []\n",
        "\n",
        "    for label_type in ['pos', 'neg']:\n",
        "        dir_name = os.path.join(directory, label_type)\n",
        "        for fname in os.listdir(dir_name):\n",
        "            if fname.endswith('.txt'):\n",
        "                with open(os.path.join(dir_name, fname), 'r', encoding='utf-8') as f:\n",
        "                    reviews.append(f.read())\n",
        "                labels.append(1 if label_type == 'pos' else 0)\n",
        "\n",
        "    return reviews, labels\n",
        "\n",
        "# Load training data\n",
        "train_reviews, train_labels = load_reviews(train_dir)\n",
        "\n",
        "# Convert labels to numpy array\n",
        "train_labels = np.array(train_labels)"
      ],
      "metadata": {
        "id": "2CPH7jHUwweS"
      },
      "execution_count": 6,
      "outputs": []
    },
    {
      "cell_type": "code",
      "source": [
        "# total train reviews\n",
        "len(train_reviews)"
      ],
      "metadata": {
        "colab": {
          "base_uri": "https://localhost:8080/"
        },
        "id": "6NskvQVAx6oS",
        "outputId": "f2fbf24a-cd2e-40bd-9640-9d906d2ac38d"
      },
      "execution_count": 7,
      "outputs": [
        {
          "output_type": "execute_result",
          "data": {
            "text/plain": [
              "25000"
            ]
          },
          "metadata": {},
          "execution_count": 7
        }
      ]
    },
    {
      "cell_type": "code",
      "source": [
        "# train labels length\n",
        "len(train_labels)"
      ],
      "metadata": {
        "colab": {
          "base_uri": "https://localhost:8080/"
        },
        "id": "yCRIta9yx9iD",
        "outputId": "127d0ef4-86fd-47e6-c043-9f768efe261b"
      },
      "execution_count": 8,
      "outputs": [
        {
          "output_type": "execute_result",
          "data": {
            "text/plain": [
              "25000"
            ]
          },
          "metadata": {},
          "execution_count": 8
        }
      ]
    },
    {
      "cell_type": "code",
      "source": [
        "train_reviews[:3]"
      ],
      "metadata": {
        "colab": {
          "base_uri": "https://localhost:8080/"
        },
        "id": "S9d9DiFIyFBe",
        "outputId": "2d48ad2c-4694-41f2-927b-1768d69830a6"
      },
      "execution_count": 9,
      "outputs": [
        {
          "output_type": "execute_result",
          "data": {
            "text/plain": [
              "['Every motion picture Bette Davis stars in is worth experiencing. Before Davis co-stars with Leslie Howard in \"Of Human Bondage,\" she\\'d been in over a score of movies. Legend has it that Davis was \\'robbed\\' of a 1935 Oscar for her performance as a cockney-speaking waitress, unwed mother & manipulative boyfriend-user, Mildred Rogers. The story goes that the AFI consoled Davis by awarding her 1st Oscar for playing Joyce Heath in \"Dangerous.\" I imagine Davis\\' fans of \"Of Human Bondage\" who agree with the Oscar-robbing legend are going to have at my critique\\'s contrast of the 1934 film for which the AFI didn\\'t award her performance & the 1936 film \"Dangerous,\" performance for which she received her 1st Oscar in 1937.<br /><br />I\\'ve tried to view all of Bette Davis\\' motion pictures, TV interviews, videos, advertisements for WWII & TV performances in popular series. In hindsight, it is easy to recognize why this film, \"Of Human Bondage,\" gave Davis the opportunity to be nominated for her performance. She was only 25yo when the film was completed & just about to reach Hollywood\\'s red carpet. The public began to notice Bette Davis as a star because of her performance in \"Of Human Bondage.\" That is what makes it her legendary performance. But, RKO saw her greatness in \"The Man Who Played God,\" & borrowed her from Warners to play Rogers.<br /><br />I\\'m going to go with the AFI, in hindsight, some 41 years after their astute decision to award Davis her 1st Best Actress Oscar for \"Dangerous,\" 2 years later. By doing so, the AFI may have been instrumental in bringing out the very best in one of Hollywood\\'s most talented 20th century actors. Because, from \"Of Human Bondage,\" onward, Davis knew for certain that she had to reach deep inside of herself to find the performances that earned her the golden statue. Doubtless, she deserved more than 2 Oscars; perhaps as many as 6.<br /><br />\"Dangerous\" provides an exemplary contrast in Davis\\' depth of acting characterization. For, it\\'s in \"Dangerous\" (1936) that she becomes the greatest actor of the 20th century. Davis is so good as Joyce Heath, she\\'s dead-center on the red carpet. Whereas in \"Of Human Bondage,\" Davis is right off the edge, still on the sidewalk & ready to take off on the rest of her 60 year acting career.<br /><br />Perhaps by not awarding her that legendary Oscar in 1935, instead of a star being born, an actor was given incentive to reach beyond stardom into her soul for the gifted actor\\'s greatest work.<br /><br />It is well known that her contemporary peer adversary was Joan Crawford; a star whose performances still don\\'t measure up to Davis\\'. Even Anna Nicole Smith was a \\'star\\'. Howard Stern is a radio host \\'star\\', too. Lots of people on stage & the silver screen are stars. Few became great actors. The key difference between them is something that Bette Davis could sense: the difference between the desire to do great acting or to become star-struck.<br /><br />Try comparing these two movies as I have, viewing one right after the other. Maybe you\\'ll recognize what the AFI & I did. Davis was on the verge of becoming one of the greatest actors of the 20th century at 25yo & achieved her goal by the time she was 27. She spent her next 50 plus years setting the bar so high that it has not been reached . . . yet.<br /><br />Had the AFI sent her the message that she\\'d arrived in \"Of Human Bondage,\" Davis\\' life history as a great actor may have been led into star-struck-dom, instead.',\n",
              " 'In Iran, women are not permitted to attend men\\'s sporting events, apparently to \"protect\" them from all the cursing and foul language they might hear emanating from the male fans (so since men can\\'t restrain or behave themselves, women are forced to suffer. Go figure.). \"Offside\" tells the tale of a half dozen or so young women who, dressed like men, attempt to sneak into the high-stakes match between Iran and Bahrain that, in 2005, qualified Iran to go to the World Cup (the movie was actually filmed in large part during that game).<br /><br />\"Offside\" is a slice-of-life comedy that will remind you of all those great humanistic films (\"The Shop on Main Street,\" \"Loves of a Blonde,\" \"Closely Watched Trains\" etc.) that flowed out of Communist Czechoslovakia as part of the \"Prague Miracle\" in the mid 1960\\'s. As with many of those works, \"Offside\" is more concerned with observing life than with devising any kind of elaborately contrived fictional narrative. Indeed, it is the simplicity of the setup and the naturalism of the style that make the movie so effective.<br /><br />Once their ruse is discovered, the girls are corralled into a small pen right outside the stadium where they can hear the raucous cheering emanating from the game inside. Stuck where they are, all they can do is plead with the security guards to let them go in, guards who are basically bumbling, good-natured lads who are compelled to do their duty as a part of their compulsory military service. Even most of the men going into the stadium don\\'t seem particularly perturbed at the thought of these women being allowed in. Still the prohibition persists. Yet, how can one not be impressed by the very real courage and spunk displayed by these women as they go up against a system that continues to enforce such a ridiculously regressive and archaic restriction? And, yet, the purpose of these women is not to rally behind a cause or to make a \"point.\" They are simply obsessed fans with a burning desire to watch a soccer game and, like all the men in the country, cheer on their team.<br /><br />It\\'s hard to tell just how much of the dialogue is scripted and how much of it is extemporaneous, but, in either case, the actors, with their marvelously expressive faces, do a magnificent job making each moment seem utterly real and convincing. Mohammad Kheir-abadi and Shayesteh Irani are notable standouts in a uniformly excellent cast. The structure of the film is also very loose and freeform, as writer/director Jafar Panahi and co-writer Shadmehr Rastin focus for a few brief moments on one or two of the characters, then move smoothly and effortlessly onto others. With this documentary-type approach, we come to feel as if we are witnessing an actual event unfolding in \"real time.\" Very often, it\\'s quite easy for us to forget we\\'re actually watching a movie.<br /><br />It was a very smart move on the part of the filmmakers to include so much good-natured humor in the film (it\\'s what the Czech filmmakers did as well), the better to point up the utter absurdity of the situation and broaden the appeal of the film for audiences both domestic and foreign. \"Offside\" is obviously a cry for justice, but it is one that is made all the more effective by its refusal to make of its story a heavy-breathing tragedy. Instead, it realizes that nothing breaks down social barriers quite as efficiently as humor and an appeal to the audience\\'s common humanity. And isn\\'t that what true art is supposed to be all about? In its own quiet, understated way, \"Offside\" is one of the great, under-appreciated gems of 2007.',\n",
              " 'This movie is proof that film noire is an enduring style, and extremely worthy of stay alive. For me, it is he best example of film noire since Chinatown.<br /><br />It will, unfortunately, never get the recognition it deserves. It was never promoted properly when it was first released and has had to build its cadre of fans through venues like Vanguard Cinema and word of mouth rental referrals.<br /><br />I highly recommend that people looking for something more than mindless entertainment rent this movie and delved into its highly convoluted plot.']"
            ]
          },
          "metadata": {},
          "execution_count": 9
        }
      ]
    },
    {
      "cell_type": "markdown",
      "source": [
        "# Convert the data into vectors"
      ],
      "metadata": {
        "id": "9srxg4WZ0CiZ"
      }
    },
    {
      "cell_type": "markdown",
      "source": [
        "# Tokenize & create sequences"
      ],
      "metadata": {
        "id": "JRl3_DH80KC4"
      }
    },
    {
      "cell_type": "code",
      "source": [
        "max_words=20000 # limit the vocab size\n",
        "max_len=200 # max len for each review\n"
      ],
      "metadata": {
        "id": "ASknWTCTyZT4"
      },
      "execution_count": 10,
      "outputs": []
    },
    {
      "cell_type": "code",
      "source": [
        "from tensorflow.keras.preprocessing.text import Tokenizer\n",
        "from tensorflow.keras.preprocessing.sequence import pad_sequences\n",
        "print('imported')"
      ],
      "metadata": {
        "colab": {
          "base_uri": "https://localhost:8080/"
        },
        "id": "faWEqm4k0XfC",
        "outputId": "f58ce1e4-5cc3-4cec-bd3f-77579d080f87"
      },
      "execution_count": 11,
      "outputs": [
        {
          "output_type": "stream",
          "name": "stdout",
          "text": [
            "imported\n"
          ]
        }
      ]
    },
    {
      "cell_type": "code",
      "source": [
        "tokenizer=Tokenizer(num_words=max_words)\n",
        "tokenizer.fit_on_texts(train_reviews)"
      ],
      "metadata": {
        "id": "qZPOu77J0nZ-"
      },
      "execution_count": 17,
      "outputs": []
    },
    {
      "cell_type": "code",
      "source": [
        "# create sequences\n",
        "train_sequences=tokenizer.texts_to_sequences(train_reviews)\n",
        "train_data=pad_sequences(train_sequences,maxlen=max_len)"
      ],
      "metadata": {
        "id": "epehYd3-02Wr"
      },
      "execution_count": 18,
      "outputs": []
    },
    {
      "cell_type": "code",
      "source": [
        "print('Train data shape',train_data.shape)"
      ],
      "metadata": {
        "colab": {
          "base_uri": "https://localhost:8080/"
        },
        "id": "QXF-JcaR1E0q",
        "outputId": "344221db-b45f-432e-ec4f-d866908384da"
      },
      "execution_count": 19,
      "outputs": [
        {
          "output_type": "stream",
          "name": "stdout",
          "text": [
            "Train data shape (25000, 200)\n"
          ]
        }
      ]
    },
    {
      "cell_type": "code",
      "source": [
        "train_data[3]"
      ],
      "metadata": {
        "colab": {
          "base_uri": "https://localhost:8080/"
        },
        "id": "tcTxcX4f1LRu",
        "outputId": "ef9778f3-5346-477e-e9b1-fb89de8f3fb2"
      },
      "execution_count": 20,
      "outputs": [
        {
          "output_type": "execute_result",
          "data": {
            "text/plain": [
              "array([    0,     0,     0,     0,     0,     0,     0,     0,     0,\n",
              "           0,     0,     0,     0,     0,     0,     0,     0,     0,\n",
              "           0,     0,     0,     0,     0,     0,     0,     0,     0,\n",
              "           0,     0,  1802,  7801,   732,   337,     8,     1,   566,\n",
              "          39,   714,  2373,    16,    42,  6627,  1984,     2,   597,\n",
              "         580,     4,     3, 12259,   226,    39,    62,    12,   163,\n",
              "          98,   278,    18,   195,     1,   210,   205,     7,     7,\n",
              "           1,   174,     6,  1448,   485,  2058,    32,   318,   695,\n",
              "        4253,   156,    26,   559,   306,    96,   612,    14,     1,\n",
              "         150,  2103, 11310,  8775,   823,  5794,   912, 14363, 18513,\n",
              "           2,  1730, 12998,    29,  3108,    16,  4803,     2,    30,\n",
              "         219,    76,     3,   173,     4,   916,    36,    69,    18,\n",
              "           1,   597,   133, 16115,   130,     6,   742, 14364, 10555,\n",
              "           1,   678,    80,    17,   476,    14,     3,  8596,    34,\n",
              "       14897,   115,    30,  5284,     1,   628,  1098,     7,     7,\n",
              "          10,  8170,   108,  1544,  1878,    16,    11,    19,    14,\n",
              "          10,   293,     9,   176,   397,    35,   276,   143,  8060,\n",
              "           5,   354,     9,    50,    71,   108,   405,  1802,  7801,\n",
              "           6,    30,   219,     3,   337,  1352,  2104,    19,  2823,\n",
              "          12,    57,    46,    70,  1213,  3432,    41,     1,  8926,\n",
              "           4,  3396,     2,   380,     7,     7,    10,    37,     9,\n",
              "          18,    42,   251,     5,   383,     7,     7,   690,    43,\n",
              "           4,   155], dtype=int32)"
            ]
          },
          "metadata": {},
          "execution_count": 20
        }
      ]
    },
    {
      "cell_type": "code",
      "source": [
        "vocab=tokenizer.word_index\n"
      ],
      "metadata": {
        "id": "9EQ7ck952RG4"
      },
      "execution_count": 21,
      "outputs": []
    },
    {
      "cell_type": "code",
      "source": [
        "vocab['world']"
      ],
      "metadata": {
        "colab": {
          "base_uri": "https://localhost:8080/"
        },
        "id": "B2bAzfC02lbt",
        "outputId": "aebcb069-9037-4c77-f271-af92bfab9d25"
      },
      "execution_count": 22,
      "outputs": [
        {
          "output_type": "execute_result",
          "data": {
            "text/plain": [
              "179"
            ]
          },
          "metadata": {},
          "execution_count": 22
        }
      ]
    },
    {
      "cell_type": "code",
      "source": [
        "vocab['the']"
      ],
      "metadata": {
        "colab": {
          "base_uri": "https://localhost:8080/"
        },
        "id": "zodbP0U62nyf",
        "outputId": "a8aea35b-b069-4a88-8742-75881f93d4d8"
      },
      "execution_count": 23,
      "outputs": [
        {
          "output_type": "execute_result",
          "data": {
            "text/plain": [
              "1"
            ]
          },
          "metadata": {},
          "execution_count": 23
        }
      ]
    },
    {
      "cell_type": "markdown",
      "source": [
        "dept names\n",
        "HR   0\n",
        "IT   1\n",
        "Fin  2"
      ],
      "metadata": {
        "id": "ErQQxcCK3xoi"
      }
    },
    {
      "cell_type": "markdown",
      "source": [
        "# RNN"
      ],
      "metadata": {
        "id": "zOCVyVJT4A_a"
      }
    },
    {
      "cell_type": "code",
      "source": [
        "import tensorflow as tf\n",
        "from  tensorflow.keras.models import Sequential\n",
        "from  tensorflow.keras.layers import Embedding,SimpleRNN,Dense"
      ],
      "metadata": {
        "id": "Xts_9ZVO2t9y"
      },
      "execution_count": null,
      "outputs": []
    },
    {
      "cell_type": "markdown",
      "source": [
        "### captures the sementic relationship"
      ],
      "metadata": {
        "id": "X398y8aF5zFo"
      }
    },
    {
      "cell_type": "code",
      "source": [
        "rnn_model=Sequential([Embedding(max_words,128,input_length=max_len),\n",
        "                      SimpleRNN(64),\n",
        "                      Dense(1,activation='sigmoid')])"
      ],
      "metadata": {
        "colab": {
          "base_uri": "https://localhost:8080/"
        },
        "id": "OdXdroVj4giJ",
        "outputId": "5db8bbf6-8ebe-4280-b0dc-40064d3523ba"
      },
      "execution_count": null,
      "outputs": [
        {
          "output_type": "stream",
          "name": "stderr",
          "text": [
            "/usr/local/lib/python3.11/dist-packages/keras/src/layers/core/embedding.py:90: UserWarning: Argument `input_length` is deprecated. Just remove it.\n",
            "  warnings.warn(\n"
          ]
        }
      ]
    },
    {
      "cell_type": "code",
      "source": [
        "rnn_model.compile(optimizer='adam',loss='binary_crossentropy',metrics=['accuracy'])"
      ],
      "metadata": {
        "id": "MemZLb2O48j1"
      },
      "execution_count": null,
      "outputs": []
    },
    {
      "cell_type": "code",
      "source": [
        "# run the model\n",
        "history=rnn_model.fit(train_data,train_labels,epochs=10,validation_split=0.2)"
      ],
      "metadata": {
        "colab": {
          "base_uri": "https://localhost:8080/"
        },
        "id": "HFVJ-rA17sK5",
        "outputId": "49a52ab1-6d47-4dcd-f7ee-de476e5fb5aa"
      },
      "execution_count": null,
      "outputs": [
        {
          "output_type": "stream",
          "name": "stdout",
          "text": [
            "Epoch 1/10\n",
            "\u001b[1m625/625\u001b[0m \u001b[32m━━━━━━━━━━━━━━━━━━━━\u001b[0m\u001b[37m\u001b[0m \u001b[1m17s\u001b[0m 20ms/step - accuracy: 0.6649 - loss: 0.6033 - val_accuracy: 0.7044 - val_loss: 0.6211\n",
            "Epoch 2/10\n",
            "\u001b[1m625/625\u001b[0m \u001b[32m━━━━━━━━━━━━━━━━━━━━\u001b[0m\u001b[37m\u001b[0m \u001b[1m11s\u001b[0m 17ms/step - accuracy: 0.8636 - loss: 0.3283 - val_accuracy: 0.5330 - val_loss: 1.0922\n",
            "Epoch 3/10\n",
            "\u001b[1m625/625\u001b[0m \u001b[32m━━━━━━━━━━━━━━━━━━━━\u001b[0m\u001b[37m\u001b[0m \u001b[1m20s\u001b[0m 17ms/step - accuracy: 0.9423 - loss: 0.1629 - val_accuracy: 0.7744 - val_loss: 0.6207\n",
            "Epoch 4/10\n",
            "\u001b[1m625/625\u001b[0m \u001b[32m━━━━━━━━━━━━━━━━━━━━\u001b[0m\u001b[37m\u001b[0m \u001b[1m11s\u001b[0m 18ms/step - accuracy: 0.9781 - loss: 0.0683 - val_accuracy: 0.6968 - val_loss: 1.0286\n",
            "Epoch 5/10\n",
            "\u001b[1m625/625\u001b[0m \u001b[32m━━━━━━━━━━━━━━━━━━━━\u001b[0m\u001b[37m\u001b[0m \u001b[1m21s\u001b[0m 18ms/step - accuracy: 0.9907 - loss: 0.0316 - val_accuracy: 0.5870 - val_loss: 1.6372\n",
            "Epoch 6/10\n",
            "\u001b[1m625/625\u001b[0m \u001b[32m━━━━━━━━━━━━━━━━━━━━\u001b[0m\u001b[37m\u001b[0m \u001b[1m21s\u001b[0m 18ms/step - accuracy: 0.9566 - loss: 0.1135 - val_accuracy: 0.7582 - val_loss: 0.7919\n",
            "Epoch 7/10\n",
            "\u001b[1m625/625\u001b[0m \u001b[32m━━━━━━━━━━━━━━━━━━━━\u001b[0m\u001b[37m\u001b[0m \u001b[1m11s\u001b[0m 17ms/step - accuracy: 0.9530 - loss: 0.1246 - val_accuracy: 0.7108 - val_loss: 0.9487\n",
            "Epoch 8/10\n",
            "\u001b[1m625/625\u001b[0m \u001b[32m━━━━━━━━━━━━━━━━━━━━\u001b[0m\u001b[37m\u001b[0m \u001b[1m11s\u001b[0m 18ms/step - accuracy: 0.9722 - loss: 0.0787 - val_accuracy: 0.6556 - val_loss: 0.7808\n",
            "Epoch 9/10\n",
            "\u001b[1m625/625\u001b[0m \u001b[32m━━━━━━━━━━━━━━━━━━━━\u001b[0m\u001b[37m\u001b[0m \u001b[1m21s\u001b[0m 18ms/step - accuracy: 0.9281 - loss: 0.1880 - val_accuracy: 0.6958 - val_loss: 0.9139\n",
            "Epoch 10/10\n",
            "\u001b[1m625/625\u001b[0m \u001b[32m━━━━━━━━━━━━━━━━━━━━\u001b[0m\u001b[37m\u001b[0m \u001b[1m21s\u001b[0m 18ms/step - accuracy: 0.9125 - loss: 0.2214 - val_accuracy: 0.6464 - val_loss: 1.1357\n"
          ]
        }
      ]
    },
    {
      "cell_type": "markdown",
      "source": [
        "# test the model"
      ],
      "metadata": {
        "id": "J_ZzdIpU8tJg"
      }
    },
    {
      "cell_type": "code",
      "source": [
        "test_dir='/content/aclImdb/test'\n",
        "test_reviews,test_labels=load_reviews(test_dir)\n",
        "test_labels=np.array(test_labels)\n",
        "\n",
        "test_sequences=tokenizer.texts_to_sequences(test_reviews)\n",
        "test_data=pad_sequences(test_sequences,maxlen=max_len)\n",
        "\n",
        "rnn_model.evaluate(test_data,test_labels)\n",
        "\n"
      ],
      "metadata": {
        "colab": {
          "base_uri": "https://localhost:8080/"
        },
        "id": "PBWTRMno8ueA",
        "outputId": "5c812553-67cc-4fdc-8f01-c05ba388157e"
      },
      "execution_count": null,
      "outputs": [
        {
          "output_type": "stream",
          "name": "stdout",
          "text": [
            "\u001b[1m782/782\u001b[0m \u001b[32m━━━━━━━━━━━━━━━━━━━━\u001b[0m\u001b[37m\u001b[0m \u001b[1m5s\u001b[0m 6ms/step - accuracy: 0.8315 - loss: 0.4795\n"
          ]
        },
        {
          "output_type": "execute_result",
          "data": {
            "text/plain": [
              "[0.7491519451141357, 0.7541199922561646]"
            ]
          },
          "metadata": {},
          "execution_count": 23
        }
      ]
    },
    {
      "cell_type": "code",
      "source": [
        "loss,accuracy=rnn_model.evaluate(test_data,test_labels)\n",
        "print('Test Accuracy',accuracy)\n",
        "print('Test Loss',loss)"
      ],
      "metadata": {
        "colab": {
          "base_uri": "https://localhost:8080/"
        },
        "id": "eKhaQCjS9RSq",
        "outputId": "c19cefd1-eba9-46be-ee73-1300b7ca304f"
      },
      "execution_count": null,
      "outputs": [
        {
          "output_type": "stream",
          "name": "stdout",
          "text": [
            "\u001b[1m782/782\u001b[0m \u001b[32m━━━━━━━━━━━━━━━━━━━━\u001b[0m\u001b[37m\u001b[0m \u001b[1m5s\u001b[0m 6ms/step - accuracy: 0.8315 - loss: 0.4795\n",
            "Test Accuracy 0.7541199922561646\n",
            "Test Loss 0.7491519451141357\n"
          ]
        }
      ]
    },
    {
      "cell_type": "code",
      "source": [
        "loss,accuracy=rnn_model.evaluate(train_data,train_labels)\n",
        "print('Train Accuracy',accuracy)\n",
        "print('Train Loss',loss)"
      ],
      "metadata": {
        "colab": {
          "base_uri": "https://localhost:8080/"
        },
        "id": "oX8V7PVS9ryk",
        "outputId": "52e678d3-9a90-44d2-9ce3-951de35cdf01"
      },
      "execution_count": null,
      "outputs": [
        {
          "output_type": "stream",
          "name": "stdout",
          "text": [
            "\u001b[1m782/782\u001b[0m \u001b[32m━━━━━━━━━━━━━━━━━━━━\u001b[0m\u001b[37m\u001b[0m \u001b[1m4s\u001b[0m 6ms/step - accuracy: 0.9634 - loss: 0.1094\n",
            "Train Accuracy 0.8917999863624573\n",
            "Train Loss 0.33019211888313293\n"
          ]
        }
      ]
    },
    {
      "cell_type": "markdown",
      "source": [
        "# new prediction"
      ],
      "metadata": {
        "id": "pnvx_l8d-kzo"
      }
    },
    {
      "cell_type": "code",
      "source": [
        "# Helper function to preprocess input review and make predictions\n",
        "def predict_sentiment(review, model, tokenizer, max_len=200):\n",
        "    # Convert the review to a sequence of word indices\n",
        "    review_seq = tokenizer.texts_to_sequences([review])\n",
        "\n",
        "    # Pad the sequence to ensure it has the correct length\n",
        "    review_pad = pad_sequences(review_seq, maxlen=max_len)\n",
        "\n",
        "    # Make the prediction\n",
        "    prediction = model.predict(review_pad)\n",
        "\n",
        "    # Convert prediction to label (1: positive, 0: negative)\n",
        "    sentiment = 'Positive' if prediction >= 0.5 else 'Negative'\n",
        "\n",
        "    print(f\"Review: {review}\")\n",
        "    print(f\"Sentiment: {sentiment}\")\n",
        "    print(f\"Prediction score: {prediction[0][0]:.4f}\\n\")"
      ],
      "metadata": {
        "id": "WWfb1m289_1E"
      },
      "execution_count": null,
      "outputs": []
    },
    {
      "cell_type": "code",
      "source": [
        "# Example usage\n",
        "new_review = \"The movie was absolutely fantastic, with a great storyline and brilliant acting!\"\n",
        "predict_sentiment(new_review, rnn_model, tokenizer)"
      ],
      "metadata": {
        "colab": {
          "base_uri": "https://localhost:8080/"
        },
        "id": "2RVS2iG1-oUY",
        "outputId": "347f33a4-fd2e-4643-cf7b-a03b191a7947"
      },
      "execution_count": null,
      "outputs": [
        {
          "output_type": "stream",
          "name": "stdout",
          "text": [
            "\u001b[1m1/1\u001b[0m \u001b[32m━━━━━━━━━━━━━━━━━━━━\u001b[0m\u001b[37m\u001b[0m \u001b[1m0s\u001b[0m 373ms/step\n",
            "Review: The movie was absolutely fantastic, with a great storyline and brilliant acting!\n",
            "Sentiment: Positive\n",
            "Prediction score: 0.9489\n",
            "\n"
          ]
        }
      ]
    },
    {
      "cell_type": "code",
      "source": [
        "# Example usage\n",
        "new_review = \"The movie was good\"\n",
        "predict_sentiment(new_review, rnn_model, tokenizer)"
      ],
      "metadata": {
        "colab": {
          "base_uri": "https://localhost:8080/"
        },
        "id": "9KNMexO6-6Xx",
        "outputId": "e0afe3c9-81c6-4d2b-ca20-550cd5e500f6"
      },
      "execution_count": null,
      "outputs": [
        {
          "output_type": "stream",
          "name": "stdout",
          "text": [
            "\u001b[1m1/1\u001b[0m \u001b[32m━━━━━━━━━━━━━━━━━━━━\u001b[0m\u001b[37m\u001b[0m \u001b[1m0s\u001b[0m 37ms/step\n",
            "Review: The movie was good\n",
            "Sentiment: Positive\n",
            "Prediction score: 0.9917\n",
            "\n"
          ]
        }
      ]
    },
    {
      "cell_type": "code",
      "source": [],
      "metadata": {
        "id": "L2bidd8V-8fR"
      },
      "execution_count": null,
      "outputs": []
    },
    {
      "cell_type": "markdown",
      "source": [
        "LTSM"
      ],
      "metadata": {
        "id": "rQqBDWBrI0ff"
      }
    },
    {
      "cell_type": "code",
      "source": [
        "from tensorflow.keras.models import Sequential\n",
        "from tensorflow.keras.layers import LSTM, Embedding, Dense\n",
        "import tensorflow as tf"
      ],
      "metadata": {
        "id": "Pm9eFASyI2mH"
      },
      "execution_count": 13,
      "outputs": []
    },
    {
      "cell_type": "code",
      "source": [
        "# create architecture\n",
        "lstm_model=Sequential([Embedding(max_words,128,input_length=max_len),\n",
        "                       LSTM(128,kernel_regularizer=tf.keras.regularizers.l2(0.001),dropout=0.2),\n",
        "                       Dense(1,activation='sigmoid',kernel_regularizer=tf.keras.regularizers.l2(0.001))])"
      ],
      "metadata": {
        "id": "dXl2mbzNI3Rs"
      },
      "execution_count": 39,
      "outputs": []
    },
    {
      "cell_type": "code",
      "source": [
        "# compile the model\n",
        "lstm_model.compile(optimizer='adam',loss='binary_crossentropy',metrics=['accuracy'])"
      ],
      "metadata": {
        "id": "NOrTLMJrJjKF"
      },
      "execution_count": 40,
      "outputs": []
    },
    {
      "cell_type": "code",
      "source": [
        "# run the model\n",
        "history=lstm_model.fit(train_data,train_labels,epochs=10,validation_split=0.2)"
      ],
      "metadata": {
        "colab": {
          "base_uri": "https://localhost:8080/"
        },
        "id": "lJ6_paFMKeu6",
        "outputId": "3d36eed1-f058-4961-a1f4-68df57f06381"
      },
      "execution_count": 41,
      "outputs": [
        {
          "output_type": "stream",
          "name": "stdout",
          "text": [
            "Epoch 1/10\n",
            "\u001b[1m625/625\u001b[0m \u001b[32m━━━━━━━━━━━━━━━━━━━━\u001b[0m\u001b[37m\u001b[0m \u001b[1m11s\u001b[0m 14ms/step - accuracy: 0.7082 - loss: 0.6073 - val_accuracy: 0.8056 - val_loss: 0.4364\n",
            "Epoch 2/10\n",
            "\u001b[1m625/625\u001b[0m \u001b[32m━━━━━━━━━━━━━━━━━━━━\u001b[0m\u001b[37m\u001b[0m \u001b[1m10s\u001b[0m 14ms/step - accuracy: 0.8923 - loss: 0.2962 - val_accuracy: 0.8190 - val_loss: 0.5005\n",
            "Epoch 3/10\n",
            "\u001b[1m625/625\u001b[0m \u001b[32m━━━━━━━━━━━━━━━━━━━━\u001b[0m\u001b[37m\u001b[0m \u001b[1m10s\u001b[0m 13ms/step - accuracy: 0.9231 - loss: 0.2349 - val_accuracy: 0.7958 - val_loss: 0.6513\n",
            "Epoch 4/10\n",
            "\u001b[1m625/625\u001b[0m \u001b[32m━━━━━━━━━━━━━━━━━━━━\u001b[0m\u001b[37m\u001b[0m \u001b[1m9s\u001b[0m 12ms/step - accuracy: 0.9495 - loss: 0.1662 - val_accuracy: 0.7452 - val_loss: 0.7806\n",
            "Epoch 5/10\n",
            "\u001b[1m625/625\u001b[0m \u001b[32m━━━━━━━━━━━━━━━━━━━━\u001b[0m\u001b[37m\u001b[0m \u001b[1m11s\u001b[0m 13ms/step - accuracy: 0.9665 - loss: 0.1196 - val_accuracy: 0.7304 - val_loss: 0.7732\n",
            "Epoch 6/10\n",
            "\u001b[1m625/625\u001b[0m \u001b[32m━━━━━━━━━━━━━━━━━━━━\u001b[0m\u001b[37m\u001b[0m \u001b[1m10s\u001b[0m 13ms/step - accuracy: 0.9715 - loss: 0.1078 - val_accuracy: 0.8294 - val_loss: 0.4861\n",
            "Epoch 7/10\n",
            "\u001b[1m625/625\u001b[0m \u001b[32m━━━━━━━━━━━━━━━━━━━━\u001b[0m\u001b[37m\u001b[0m \u001b[1m11s\u001b[0m 14ms/step - accuracy: 0.9815 - loss: 0.0814 - val_accuracy: 0.8574 - val_loss: 0.4682\n",
            "Epoch 8/10\n",
            "\u001b[1m625/625\u001b[0m \u001b[32m━━━━━━━━━━━━━━━━━━━━\u001b[0m\u001b[37m\u001b[0m \u001b[1m8s\u001b[0m 13ms/step - accuracy: 0.9845 - loss: 0.0709 - val_accuracy: 0.7946 - val_loss: 0.6516\n",
            "Epoch 9/10\n",
            "\u001b[1m625/625\u001b[0m \u001b[32m━━━━━━━━━━━━━━━━━━━━\u001b[0m\u001b[37m\u001b[0m \u001b[1m8s\u001b[0m 12ms/step - accuracy: 0.9854 - loss: 0.0688 - val_accuracy: 0.8358 - val_loss: 0.5298\n",
            "Epoch 10/10\n",
            "\u001b[1m625/625\u001b[0m \u001b[32m━━━━━━━━━━━━━━━━━━━━\u001b[0m\u001b[37m\u001b[0m \u001b[1m11s\u001b[0m 13ms/step - accuracy: 0.9836 - loss: 0.0725 - val_accuracy: 0.8206 - val_loss: 0.6680\n"
          ]
        }
      ]
    },
    {
      "cell_type": "code",
      "source": [
        "test_dir='/content/aclImdb/test'\n",
        "test_reviews,test_labels=load_reviews(test_dir)\n",
        "test_labels=np.array(test_labels)\n",
        "test_sequences=tokenizer.texts_to_sequences(test_reviews)\n",
        "test_data=pad_sequences(test_sequences,maxlen=max_len)\n",
        "lstm_model.evaluate(test_data,test_labels)"
      ],
      "metadata": {
        "colab": {
          "base_uri": "https://localhost:8080/"
        },
        "id": "ayBO6TBtKhtP",
        "outputId": "bb88a09b-397e-4490-932c-6576285b995f"
      },
      "execution_count": 25,
      "outputs": [
        {
          "output_type": "stream",
          "name": "stdout",
          "text": [
            "\u001b[1m782/782\u001b[0m \u001b[32m━━━━━━━━━━━━━━━━━━━━\u001b[0m\u001b[37m\u001b[0m \u001b[1m5s\u001b[0m 7ms/step - accuracy: 0.8588 - loss: 0.4749\n"
          ]
        },
        {
          "output_type": "execute_result",
          "data": {
            "text/plain": [
              "[0.5948634147644043, 0.8355200290679932]"
            ]
          },
          "metadata": {},
          "execution_count": 25
        }
      ]
    },
    {
      "cell_type": "code",
      "source": [
        "# Helper function to preprocess input review and make predictions\n",
        "def predict_sentiment(review, model, tokenizer, max_len=200):\n",
        "    # Convert the review to a sequence of word indices\n",
        "    review_seq = tokenizer.texts_to_sequences([review])\n",
        "    # Pad the sequence to ensure it has the correct length\n",
        "    review_pad = pad_sequences(review_seq, maxlen=max_len)\n",
        "    # Make the prediction\n",
        "    prediction = model.predict(review_pad)\n",
        "    # Convert prediction to label (1: positive, 0: negative)\n",
        "    sentiment = 'Positive' if prediction >= 0.5 else 'Negative'\n",
        "    print(f\"Review: {review}\")\n",
        "    print(f\"Sentiment: {sentiment}\")\n",
        "    print(f\"Prediction score: {prediction[0][0]:.4f}\\n\")"
      ],
      "metadata": {
        "id": "fKNUNQtmLHPW"
      },
      "execution_count": 26,
      "outputs": []
    },
    {
      "cell_type": "code",
      "source": [
        "# Example usage\n",
        "new_review = \"The movie was good\"\n",
        "predict_sentiment(new_review, lstm_model, tokenizer)"
      ],
      "metadata": {
        "colab": {
          "base_uri": "https://localhost:8080/"
        },
        "id": "4fAB6u-fL-r6",
        "outputId": "fcc70651-dc9e-48a2-c296-dc45dfbaa896"
      },
      "execution_count": 27,
      "outputs": [
        {
          "output_type": "stream",
          "name": "stdout",
          "text": [
            "\u001b[1m1/1\u001b[0m \u001b[32m━━━━━━━━━━━━━━━━━━━━\u001b[0m\u001b[37m\u001b[0m \u001b[1m0s\u001b[0m 159ms/step\n",
            "Review: The movie was good\n",
            "Sentiment: Positive\n",
            "Prediction score: 0.6047\n",
            "\n"
          ]
        }
      ]
    },
    {
      "cell_type": "code",
      "source": [
        "# Example usage\n",
        "new_review = \"The movie was bad\"\n",
        "predict_sentiment(new_review, lstm_model, tokenizer)"
      ],
      "metadata": {
        "colab": {
          "base_uri": "https://localhost:8080/"
        },
        "id": "GOgTk72GMEFo",
        "outputId": "0d3f215d-f2e9-4e6a-d9d1-34465cc60e20"
      },
      "execution_count": 28,
      "outputs": [
        {
          "output_type": "stream",
          "name": "stdout",
          "text": [
            "\u001b[1m1/1\u001b[0m \u001b[32m━━━━━━━━━━━━━━━━━━━━\u001b[0m\u001b[37m\u001b[0m \u001b[1m0s\u001b[0m 49ms/step\n",
            "Review: The movie was bad\n",
            "Sentiment: Negative\n",
            "Prediction score: 0.1146\n",
            "\n"
          ]
        }
      ]
    },
    {
      "cell_type": "markdown",
      "source": [
        "Apply GRU -Gated Recurrent Unit"
      ],
      "metadata": {
        "id": "BeMENx02N6Ej"
      }
    },
    {
      "cell_type": "code",
      "source": [
        "from tensorflow.keras.layers import GRU"
      ],
      "metadata": {
        "id": "bNL2yREIMXYs"
      },
      "execution_count": 29,
      "outputs": []
    },
    {
      "cell_type": "code",
      "source": [
        "#Create Architecture\n",
        "# create architecture\n",
        "gru_model=Sequential([Embedding(max_words,128,input_length=max_len),\n",
        "                       GRU(128,kernel_regularizer=tf.keras.regularizers.l2(0.001),dropout=0.2),\n",
        "                       Dense(1,activation='sigmoid',kernel_regularizer=tf.keras.regularizers.l2(0.001))])"
      ],
      "metadata": {
        "colab": {
          "base_uri": "https://localhost:8080/"
        },
        "id": "9gWrYRZOOEp1",
        "outputId": "6fad522f-525b-444a-ddc1-e69a02c2bd9c"
      },
      "execution_count": 30,
      "outputs": [
        {
          "output_type": "stream",
          "name": "stderr",
          "text": [
            "/usr/local/lib/python3.11/dist-packages/keras/src/layers/core/embedding.py:90: UserWarning: Argument `input_length` is deprecated. Just remove it.\n",
            "  warnings.warn(\n"
          ]
        }
      ]
    },
    {
      "cell_type": "code",
      "source": [
        "# compile the model\n",
        "gru_model.compile(optimizer='adam',loss='binary_crossentropy',metrics=['accuracy'])"
      ],
      "metadata": {
        "id": "UHZbKAc4Oeb7"
      },
      "execution_count": 31,
      "outputs": []
    },
    {
      "cell_type": "code",
      "source": [
        "# run the model\n",
        "history=gru_model.fit(train_data,train_labels,epochs=10,validation_split=0.2)"
      ],
      "metadata": {
        "colab": {
          "base_uri": "https://localhost:8080/"
        },
        "id": "4lfGx8hiOgfa",
        "outputId": "8890cb1d-6269-4cb1-c733-a3e2e5524357"
      },
      "execution_count": 32,
      "outputs": [
        {
          "output_type": "stream",
          "name": "stdout",
          "text": [
            "Epoch 1/10\n",
            "\u001b[1m625/625\u001b[0m \u001b[32m━━━━━━━━━━━━━━━━━━━━\u001b[0m\u001b[37m\u001b[0m \u001b[1m11s\u001b[0m 14ms/step - accuracy: 0.7128 - loss: 0.6060 - val_accuracy: 0.6974 - val_loss: 0.6626\n",
            "Epoch 2/10\n",
            "\u001b[1m625/625\u001b[0m \u001b[32m━━━━━━━━━━━━━━━━━━━━\u001b[0m\u001b[37m\u001b[0m \u001b[1m10s\u001b[0m 13ms/step - accuracy: 0.8952 - loss: 0.2882 - val_accuracy: 0.8160 - val_loss: 0.4622\n",
            "Epoch 3/10\n",
            "\u001b[1m625/625\u001b[0m \u001b[32m━━━━━━━━━━━━━━━━━━━━\u001b[0m\u001b[37m\u001b[0m \u001b[1m10s\u001b[0m 12ms/step - accuracy: 0.9413 - loss: 0.1779 - val_accuracy: 0.8008 - val_loss: 0.5197\n",
            "Epoch 4/10\n",
            "\u001b[1m625/625\u001b[0m \u001b[32m━━━━━━━━━━━━━━━━━━━━\u001b[0m\u001b[37m\u001b[0m \u001b[1m8s\u001b[0m 13ms/step - accuracy: 0.9647 - loss: 0.1203 - val_accuracy: 0.6630 - val_loss: 0.9736\n",
            "Epoch 5/10\n",
            "\u001b[1m625/625\u001b[0m \u001b[32m━━━━━━━━━━━━━━━━━━━━\u001b[0m\u001b[37m\u001b[0m \u001b[1m10s\u001b[0m 13ms/step - accuracy: 0.9709 - loss: 0.1048 - val_accuracy: 0.8430 - val_loss: 0.3793\n",
            "Epoch 6/10\n",
            "\u001b[1m625/625\u001b[0m \u001b[32m━━━━━━━━━━━━━━━━━━━━\u001b[0m\u001b[37m\u001b[0m \u001b[1m8s\u001b[0m 12ms/step - accuracy: 0.9808 - loss: 0.0781 - val_accuracy: 0.8394 - val_loss: 0.5721\n",
            "Epoch 7/10\n",
            "\u001b[1m625/625\u001b[0m \u001b[32m━━━━━━━━━━━━━━━━━━━━\u001b[0m\u001b[37m\u001b[0m \u001b[1m8s\u001b[0m 13ms/step - accuracy: 0.9884 - loss: 0.0582 - val_accuracy: 0.8626 - val_loss: 0.4861\n",
            "Epoch 8/10\n",
            "\u001b[1m625/625\u001b[0m \u001b[32m━━━━━━━━━━━━━━━━━━━━\u001b[0m\u001b[37m\u001b[0m \u001b[1m11s\u001b[0m 14ms/step - accuracy: 0.9913 - loss: 0.0488 - val_accuracy: 0.8078 - val_loss: 0.6533\n",
            "Epoch 9/10\n",
            "\u001b[1m625/625\u001b[0m \u001b[32m━━━━━━━━━━━━━━━━━━━━\u001b[0m\u001b[37m\u001b[0m \u001b[1m8s\u001b[0m 12ms/step - accuracy: 0.9934 - loss: 0.0441 - val_accuracy: 0.8372 - val_loss: 0.6079\n",
            "Epoch 10/10\n",
            "\u001b[1m625/625\u001b[0m \u001b[32m━━━━━━━━━━━━━━━━━━━━\u001b[0m\u001b[37m\u001b[0m \u001b[1m8s\u001b[0m 13ms/step - accuracy: 0.9949 - loss: 0.0360 - val_accuracy: 0.8212 - val_loss: 0.7756\n"
          ]
        }
      ]
    },
    {
      "cell_type": "code",
      "source": [
        "gru_model.evaluate(test_data,test_labels)"
      ],
      "metadata": {
        "colab": {
          "base_uri": "https://localhost:8080/"
        },
        "id": "k7iVEw7LOiPs",
        "outputId": "d0b82fec-0cf4-456d-9799-08ac832841e8"
      },
      "execution_count": 33,
      "outputs": [
        {
          "output_type": "stream",
          "name": "stdout",
          "text": [
            "\u001b[1m782/782\u001b[0m \u001b[32m━━━━━━━━━━━━━━━━━━━━\u001b[0m\u001b[37m\u001b[0m \u001b[1m5s\u001b[0m 7ms/step - accuracy: 0.8703 - loss: 0.5258\n"
          ]
        },
        {
          "output_type": "execute_result",
          "data": {
            "text/plain": [
              "[0.6424357295036316, 0.8466399908065796]"
            ]
          },
          "metadata": {},
          "execution_count": 33
        }
      ]
    },
    {
      "cell_type": "code",
      "source": [
        "# Example usage\n",
        "new_review = \"The movie was bad\"\n",
        "predict_sentiment(new_review, gru_model, tokenizer)"
      ],
      "metadata": {
        "colab": {
          "base_uri": "https://localhost:8080/"
        },
        "id": "PMmpu59SO8rI",
        "outputId": "e9cbcc18-f437-45ae-edc0-2adcb1f750e8"
      },
      "execution_count": 34,
      "outputs": [
        {
          "output_type": "stream",
          "name": "stdout",
          "text": [
            "\u001b[1m1/1\u001b[0m \u001b[32m━━━━━━━━━━━━━━━━━━━━\u001b[0m\u001b[37m\u001b[0m \u001b[1m0s\u001b[0m 155ms/step\n",
            "Review: The movie was bad\n",
            "Sentiment: Negative\n",
            "Prediction score: 0.0756\n",
            "\n"
          ]
        }
      ]
    },
    {
      "cell_type": "code",
      "source": [
        "# create architecture -Recurrent dropout\n",
        "lstm_model=Sequential([Embedding(max_words,128,input_length=max_len),\n",
        "                       LSTM(128,kernel_regularizer=tf.keras.regularizers.l2(0.001),dropout=0.2,recurrent_dropout=0.2),\n",
        "                                              Dense(1,activation='sigmoid',kernel_regularizer=tf.keras.regularizers.l2(0.001))])"
      ],
      "metadata": {
        "id": "cajvc3VDPpxq"
      },
      "execution_count": 36,
      "outputs": []
    },
    {
      "cell_type": "code",
      "source": [],
      "metadata": {
        "id": "OR_hKC5cQdHF"
      },
      "execution_count": null,
      "outputs": []
    }
  ]
}