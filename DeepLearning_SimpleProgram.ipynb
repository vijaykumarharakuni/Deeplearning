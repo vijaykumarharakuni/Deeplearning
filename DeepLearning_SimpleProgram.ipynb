{
  "nbformat": 4,
  "nbformat_minor": 0,
  "metadata": {
    "colab": {
      "provenance": [],
      "authorship_tag": "ABX9TyPamgsqIm6lYrUXuDOEmDSz",
      "include_colab_link": true
    },
    "kernelspec": {
      "name": "python3",
      "display_name": "Python 3"
    },
    "language_info": {
      "name": "python"
    }
  },
  "cells": [
    {
      "cell_type": "markdown",
      "metadata": {
        "id": "view-in-github",
        "colab_type": "text"
      },
      "source": [
        "<a href=\"https://colab.research.google.com/github/vijaykumarharakuni/Deeplearning/blob/main/DeepLearning_SimpleProgram.ipynb\" target=\"_parent\"><img src=\"https://colab.research.google.com/assets/colab-badge.svg\" alt=\"Open In Colab\"/></a>"
      ]
    },
    {
      "cell_type": "code",
      "execution_count": null,
      "metadata": {
        "colab": {
          "base_uri": "https://localhost:8080/"
        },
        "id": "8YruzCNMSYm2",
        "outputId": "419f280c-55f0-495b-c230-fbab0a2378c2"
      },
      "outputs": [
        {
          "output_type": "stream",
          "name": "stdout",
          "text": [
            "Imported\n"
          ]
        }
      ],
      "source": [
        "import numpy as np\n",
        "print('Imported')"
      ]
    },
    {
      "cell_type": "code",
      "source": [
        "2 * np.random.random((3, 1)) - 1"
      ],
      "metadata": {
        "colab": {
          "base_uri": "https://localhost:8080/"
        },
        "id": "r-s9vhwCTSCD",
        "outputId": "9cc8df72-48e7-4059-b5d6-ac4bf7189153"
      },
      "execution_count": null,
      "outputs": [
        {
          "output_type": "execute_result",
          "data": {
            "text/plain": [
              "array([[-0.02271409],\n",
              "       [ 0.61107693],\n",
              "       [-0.96354584]])"
            ]
          },
          "metadata": {},
          "execution_count": 2
        }
      ]
    },
    {
      "cell_type": "code",
      "source": [
        "class NeuralNetwork():\n",
        "   def __init__(self):\n",
        "      np.random.seed(2)\n",
        "      self.weights = 2 * np.random.random((3, 1)) - 1\n",
        "   def sigmoid(self,x):\n",
        "      return 1 / (1 + np.exp(-x))\n",
        "   def sigmoid_derivative(self,x):\n",
        "      return x * (1 - x)\n",
        "   def netinputop(self,inputs):\n",
        "      return self.sigmoid(np.dot(inputs,self.weights))\n",
        "   def train(self,training_inputs,training_outputs,number_iterations):\n",
        "      for iteration in range(number_iterations):\n",
        "         #forward pass\n",
        "         output=self.netinputop(training_inputs)\n",
        "         #error/\n",
        "         error=training_outputs-output\n",
        "         #adjustment\n",
        "         adjustment=np.dot(training_inputs.T,error*self.sigmoid_derivative(output))\n",
        "         #change the weight\n",
        "         self.weights+=adjustment"
      ],
      "metadata": {
        "id": "z8KtuDrySvT5"
      },
      "execution_count": null,
      "outputs": []
    },
    {
      "cell_type": "code",
      "source": [
        "nn=NeuralNetwork()\n",
        "print('Random Weights before training')\n",
        "print(nn.weights)\n",
        "training_inputs=np.array([[0,0,1],[1,1,1],[1,0,1],[0,1,1]])\n",
        "training_outputs=np.array([[0,1,1,0]]).T"
      ],
      "metadata": {
        "colab": {
          "base_uri": "https://localhost:8080/"
        },
        "id": "vu-iFUXbTRRT",
        "outputId": "3ae413a2-5d47-4def-aae0-968c614e5b09"
      },
      "execution_count": null,
      "outputs": [
        {
          "output_type": "stream",
          "name": "stdout",
          "text": [
            "Random Weights before training\n",
            "[[-0.1280102 ]\n",
            " [-0.94814754]\n",
            " [ 0.09932496]]\n"
          ]
        }
      ]
    },
    {
      "cell_type": "code",
      "source": [
        "nn.train(training_inputs,training_outputs,10000)\n",
        "print('Random Weights after training')\n",
        "print(nn.weights)"
      ],
      "metadata": {
        "colab": {
          "base_uri": "https://localhost:8080/"
        },
        "id": "gm7i7G3bWZe4",
        "outputId": "c74bb198-7255-4efa-e435-4c9f03eb20c4"
      },
      "execution_count": null,
      "outputs": [
        {
          "output_type": "stream",
          "name": "stdout",
          "text": [
            "Random Weights after training\n",
            "[[10.38032712]\n",
            " [-0.2069612 ]\n",
            " [-4.98415279]]\n"
          ]
        }
      ]
    },
    {
      "cell_type": "code",
      "source": [
        "# new data\n",
        "print('the op is of test data',nn.netinputop(np.array([1,0,0])))"
      ],
      "metadata": {
        "colab": {
          "base_uri": "https://localhost:8080/"
        },
        "id": "v4nmHAsMWf46",
        "outputId": "e6eab300-8818-4262-8f3b-5e9b414a9a3d"
      },
      "execution_count": null,
      "outputs": [
        {
          "output_type": "stream",
          "name": "stdout",
          "text": [
            "the op is of test data [0.99996896]\n"
          ]
        }
      ]
    },
    {
      "cell_type": "code",
      "source": [],
      "metadata": {
        "id": "c6DCLl1CXbVI"
      },
      "execution_count": null,
      "outputs": []
    }
  ]
}